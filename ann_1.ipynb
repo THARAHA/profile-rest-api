{
  "nbformat": 4,
  "nbformat_minor": 0,
  "metadata": {
    "colab": {
      "name": "ann_1.ipynb",
      "provenance": [],
      "authorship_tag": "ABX9TyOjxqBuXNEHp33DE/IKedNa",
      "include_colab_link": true
    },
    "kernelspec": {
      "name": "python3",
      "display_name": "Python 3"
    },
    "language_info": {
      "name": "python"
    }
  },
  "cells": [
    {
      "cell_type": "markdown",
      "metadata": {
        "id": "view-in-github",
        "colab_type": "text"
      },
      "source": [
        "<a href=\"https://colab.research.google.com/github/THARAHA/profile-rest-api/blob/master/ann_1.ipynb\" target=\"_parent\"><img src=\"https://colab.research.google.com/assets/colab-badge.svg\" alt=\"Open In Colab\"/></a>"
      ]
    },
    {
      "cell_type": "code",
      "metadata": {
        "id": "zLwj0Sx6_JoA"
      },
      "source": [
        "import numpy as np\n",
        "import matplotlib.pyplot as plt\n",
        "import pandas as pd\n",
        "\n",
        "dataset = pd.read_csv('data.csv')"
      ],
      "execution_count": 1,
      "outputs": []
    },
    {
      "cell_type": "code",
      "metadata": {
        "colab": {
          "base_uri": "https://localhost:8080/"
        },
        "id": "3hrjq_dG_mDF",
        "outputId": "84ee026e-6715-454f-f36f-cea77f607289"
      },
      "source": [
        "def dataSetAnalysis(df):\n",
        "    #view starting values of data set\n",
        "    print(\"Dataset Head\")\n",
        "    print(df.head(3))\n",
        "    print(\"=\" * 30)\n",
        "    \n",
        "    # View features in data set\n",
        "    print(\"Dataset Features\")\n",
        "    print(df.columns.values)\n",
        "    print(\"=\" * 30)\n",
        "    \n",
        "    # View How many samples and how many missing values for each feature\n",
        "    print(\"Dataset Features Details\")\n",
        "    print(df.info())\n",
        "    print(\"=\" * 30)\n",
        "    \n",
        "    # view distribution of numerical features across the data set\n",
        "    print(\"Dataset Numerical Features\")\n",
        "    print(df.describe())\n",
        "    print(\"=\" * 30)\n",
        "    \n",
        "    # view distribution of categorical features across the data set\n",
        "    print(\"Dataset Categorical Features\")\n",
        "    print(df.describe(include=['O']))\n",
        "    print(\"=\" * 30)\n",
        "\n",
        "dataSetAnalysis(dataset)"
      ],
      "execution_count": 2,
      "outputs": [
        {
          "output_type": "stream",
          "text": [
            "Dataset Head\n",
            "         id diagnosis  ...  fractal_dimension_worst  Unnamed: 32\n",
            "0    842302         M  ...                  0.11890          NaN\n",
            "1    842517         M  ...                  0.08902          NaN\n",
            "2  84300903         M  ...                  0.08758          NaN\n",
            "\n",
            "[3 rows x 33 columns]\n",
            "==============================\n",
            "Dataset Features\n",
            "['id' 'diagnosis' 'radius_mean' 'texture_mean' 'perimeter_mean'\n",
            " 'area_mean' 'smoothness_mean' 'compactness_mean' 'concavity_mean'\n",
            " 'concave points_mean' 'symmetry_mean' 'fractal_dimension_mean'\n",
            " 'radius_se' 'texture_se' 'perimeter_se' 'area_se' 'smoothness_se'\n",
            " 'compactness_se' 'concavity_se' 'concave points_se' 'symmetry_se'\n",
            " 'fractal_dimension_se' 'radius_worst' 'texture_worst' 'perimeter_worst'\n",
            " 'area_worst' 'smoothness_worst' 'compactness_worst' 'concavity_worst'\n",
            " 'concave points_worst' 'symmetry_worst' 'fractal_dimension_worst'\n",
            " 'Unnamed: 32']\n",
            "==============================\n",
            "Dataset Features Details\n",
            "<class 'pandas.core.frame.DataFrame'>\n",
            "RangeIndex: 569 entries, 0 to 568\n",
            "Data columns (total 33 columns):\n",
            " #   Column                   Non-Null Count  Dtype  \n",
            "---  ------                   --------------  -----  \n",
            " 0   id                       569 non-null    int64  \n",
            " 1   diagnosis                569 non-null    object \n",
            " 2   radius_mean              569 non-null    float64\n",
            " 3   texture_mean             569 non-null    float64\n",
            " 4   perimeter_mean           569 non-null    float64\n",
            " 5   area_mean                569 non-null    float64\n",
            " 6   smoothness_mean          569 non-null    float64\n",
            " 7   compactness_mean         569 non-null    float64\n",
            " 8   concavity_mean           569 non-null    float64\n",
            " 9   concave points_mean      569 non-null    float64\n",
            " 10  symmetry_mean            569 non-null    float64\n",
            " 11  fractal_dimension_mean   569 non-null    float64\n",
            " 12  radius_se                569 non-null    float64\n",
            " 13  texture_se               569 non-null    float64\n",
            " 14  perimeter_se             569 non-null    float64\n",
            " 15  area_se                  569 non-null    float64\n",
            " 16  smoothness_se            569 non-null    float64\n",
            " 17  compactness_se           569 non-null    float64\n",
            " 18  concavity_se             569 non-null    float64\n",
            " 19  concave points_se        569 non-null    float64\n",
            " 20  symmetry_se              569 non-null    float64\n",
            " 21  fractal_dimension_se     569 non-null    float64\n",
            " 22  radius_worst             569 non-null    float64\n",
            " 23  texture_worst            569 non-null    float64\n",
            " 24  perimeter_worst          569 non-null    float64\n",
            " 25  area_worst               569 non-null    float64\n",
            " 26  smoothness_worst         569 non-null    float64\n",
            " 27  compactness_worst        569 non-null    float64\n",
            " 28  concavity_worst          569 non-null    float64\n",
            " 29  concave points_worst     569 non-null    float64\n",
            " 30  symmetry_worst           569 non-null    float64\n",
            " 31  fractal_dimension_worst  569 non-null    float64\n",
            " 32  Unnamed: 32              0 non-null      float64\n",
            "dtypes: float64(31), int64(1), object(1)\n",
            "memory usage: 146.8+ KB\n",
            "None\n",
            "==============================\n",
            "Dataset Numerical Features\n",
            "                 id  radius_mean  ...  fractal_dimension_worst  Unnamed: 32\n",
            "count  5.690000e+02   569.000000  ...               569.000000          0.0\n",
            "mean   3.037183e+07    14.127292  ...                 0.083946          NaN\n",
            "std    1.250206e+08     3.524049  ...                 0.018061          NaN\n",
            "min    8.670000e+03     6.981000  ...                 0.055040          NaN\n",
            "25%    8.692180e+05    11.700000  ...                 0.071460          NaN\n",
            "50%    9.060240e+05    13.370000  ...                 0.080040          NaN\n",
            "75%    8.813129e+06    15.780000  ...                 0.092080          NaN\n",
            "max    9.113205e+08    28.110000  ...                 0.207500          NaN\n",
            "\n",
            "[8 rows x 32 columns]\n",
            "==============================\n",
            "Dataset Categorical Features\n",
            "       diagnosis\n",
            "count        569\n",
            "unique         2\n",
            "top            B\n",
            "freq         357\n",
            "==============================\n"
          ],
          "name": "stdout"
        }
      ]
    },
    {
      "cell_type": "code",
      "metadata": {
        "id": "qZF-XkjR_sd9"
      },
      "source": [
        "X = dataset.iloc[:,2:32] # [all rows, col from index 2 to the last one excluding 'Unnamed: 32']\n",
        "y = dataset.iloc[:,1] # [all rows, col one only which contains the classes of cancer]"
      ],
      "execution_count": 3,
      "outputs": []
    },
    {
      "cell_type": "code",
      "metadata": {
        "colab": {
          "base_uri": "https://localhost:8080/"
        },
        "id": "44y41-D5_xyW",
        "outputId": "44a25982-71ff-419d-9381-dacca5133943"
      },
      "source": [
        "from sklearn.preprocessing import LabelEncoder\n",
        "\n",
        "print(\"Before encoding: \")\n",
        "print(y[100:110])\n",
        "\n",
        "labelencoder_Y = LabelEncoder()\n",
        "y = labelencoder_Y.fit_transform(y)\n",
        "\n",
        "print(\"\\nAfter encoding: \")\n",
        "print(y[100:110])\n"
      ],
      "execution_count": 4,
      "outputs": [
        {
          "output_type": "stream",
          "text": [
            "Before encoding: \n",
            "100    M\n",
            "101    B\n",
            "102    B\n",
            "103    B\n",
            "104    B\n",
            "105    M\n",
            "106    B\n",
            "107    B\n",
            "108    M\n",
            "109    B\n",
            "Name: diagnosis, dtype: object\n",
            "\n",
            "After encoding: \n",
            "[1 0 0 0 0 1 0 0 1 0]\n"
          ],
          "name": "stdout"
        }
      ]
    },
    {
      "cell_type": "code",
      "metadata": {
        "id": "kfnNfhAG_0w6"
      },
      "source": [
        "from sklearn.model_selection import train_test_split\n",
        "\n",
        "X_train, X_test, y_train, y_test = train_test_split(X, y, test_size = 0.2, random_state = 0)"
      ],
      "execution_count": 5,
      "outputs": []
    },
    {
      "cell_type": "code",
      "metadata": {
        "id": "NwO0xUec_4In"
      },
      "source": [
        "from sklearn.preprocessing import StandardScaler\n",
        "\n",
        "sc = StandardScaler()\n",
        "X_train = sc.fit_transform(X_train)\n",
        "X_test = sc.transform(X_test)"
      ],
      "execution_count": 6,
      "outputs": []
    },
    {
      "cell_type": "code",
      "metadata": {
        "id": "PyNcdMMy_6u1"
      },
      "source": [
        "from keras.models import Sequential\n",
        "from keras.layers import Dense\n",
        "\n",
        "classifier = Sequential() # Initialising the ANN\n",
        "\n",
        "classifier.add(Dense(units = 16, kernel_initializer = 'uniform', activation = 'relu', input_dim = 30))\n",
        "classifier.add(Dense(units = 8, kernel_initializer = 'uniform', activation = 'relu'))\n",
        "classifier.add(Dense(units = 6, kernel_initializer = 'uniform', activation = 'relu'))\n",
        "classifier.add(Dense(units = 1, kernel_initializer = 'uniform', activation = 'sigmoid'))"
      ],
      "execution_count": 7,
      "outputs": []
    },
    {
      "cell_type": "code",
      "metadata": {
        "id": "-8z3w5AHAAn0"
      },
      "source": [
        "classifier.compile(optimizer = 'rmsprop', loss = 'binary_crossentropy', metrics = ['accuracy'])"
      ],
      "execution_count": 8,
      "outputs": []
    },
    {
      "cell_type": "code",
      "metadata": {
        "colab": {
          "base_uri": "https://localhost:8080/"
        },
        "id": "jUMExBn9AFDG",
        "outputId": "0882e573-80d8-4ed1-9426-bfd03638ec25"
      },
      "source": [
        "classifier.fit(X_train, y_train, batch_size = 1, epochs = 100)"
      ],
      "execution_count": 9,
      "outputs": [
        {
          "output_type": "stream",
          "text": [
            "Epoch 1/100\n",
            "455/455 [==============================] - 13s 1ms/step - loss: 0.6352 - accuracy: 0.6978\n",
            "Epoch 2/100\n",
            "455/455 [==============================] - 1s 1ms/step - loss: 0.1721 - accuracy: 0.9500\n",
            "Epoch 3/100\n",
            "455/455 [==============================] - 1s 1ms/step - loss: 0.1150 - accuracy: 0.9720\n",
            "Epoch 4/100\n",
            "455/455 [==============================] - 1s 1ms/step - loss: 0.0882 - accuracy: 0.9729\n",
            "Epoch 5/100\n",
            "455/455 [==============================] - 1s 1ms/step - loss: 0.0379 - accuracy: 0.9911\n",
            "Epoch 6/100\n",
            "455/455 [==============================] - 1s 1ms/step - loss: 0.0575 - accuracy: 0.9858\n",
            "Epoch 7/100\n",
            "455/455 [==============================] - 1s 1ms/step - loss: 0.1343 - accuracy: 0.9713\n",
            "Epoch 8/100\n",
            "455/455 [==============================] - 1s 1ms/step - loss: 0.0973 - accuracy: 0.9763\n",
            "Epoch 9/100\n",
            "455/455 [==============================] - 1s 1ms/step - loss: 0.0913 - accuracy: 0.9749\n",
            "Epoch 10/100\n",
            "455/455 [==============================] - 1s 1ms/step - loss: 0.0705 - accuracy: 0.9902\n",
            "Epoch 11/100\n",
            "455/455 [==============================] - 1s 1ms/step - loss: 0.0530 - accuracy: 0.9918\n",
            "Epoch 12/100\n",
            "455/455 [==============================] - 1s 1ms/step - loss: 0.1647 - accuracy: 0.9803\n",
            "Epoch 13/100\n",
            "455/455 [==============================] - 1s 1ms/step - loss: 0.0756 - accuracy: 0.9885\n",
            "Epoch 14/100\n",
            "455/455 [==============================] - 1s 1ms/step - loss: 0.0652 - accuracy: 0.9892\n",
            "Epoch 15/100\n",
            "455/455 [==============================] - 1s 1ms/step - loss: 0.0764 - accuracy: 0.9895\n",
            "Epoch 16/100\n",
            "455/455 [==============================] - 1s 1ms/step - loss: 0.0797 - accuracy: 0.9779\n",
            "Epoch 17/100\n",
            "455/455 [==============================] - 1s 1ms/step - loss: 0.0584 - accuracy: 0.9858\n",
            "Epoch 18/100\n",
            "455/455 [==============================] - 1s 1ms/step - loss: 0.1261 - accuracy: 0.9819\n",
            "Epoch 19/100\n",
            "455/455 [==============================] - 1s 1ms/step - loss: 0.0529 - accuracy: 0.9912\n",
            "Epoch 20/100\n",
            "455/455 [==============================] - 1s 1ms/step - loss: 0.1064 - accuracy: 0.9768\n",
            "Epoch 21/100\n",
            "455/455 [==============================] - 1s 1ms/step - loss: 0.1194 - accuracy: 0.9845\n",
            "Epoch 22/100\n",
            "455/455 [==============================] - 1s 1ms/step - loss: 0.0440 - accuracy: 0.9924\n",
            "Epoch 23/100\n",
            "455/455 [==============================] - 1s 1ms/step - loss: 0.0790 - accuracy: 0.9879\n",
            "Epoch 24/100\n",
            "455/455 [==============================] - 1s 1ms/step - loss: 0.0268 - accuracy: 0.9919\n",
            "Epoch 25/100\n",
            "455/455 [==============================] - 1s 1ms/step - loss: 0.0304 - accuracy: 0.9947\n",
            "Epoch 26/100\n",
            "455/455 [==============================] - 1s 1ms/step - loss: 0.0647 - accuracy: 0.9918\n",
            "Epoch 27/100\n",
            "455/455 [==============================] - 1s 1ms/step - loss: 0.1873 - accuracy: 0.9732\n",
            "Epoch 28/100\n",
            "455/455 [==============================] - 1s 1ms/step - loss: 0.1353 - accuracy: 0.9841\n",
            "Epoch 29/100\n",
            "455/455 [==============================] - 1s 1ms/step - loss: 0.0807 - accuracy: 0.9884\n",
            "Epoch 30/100\n",
            "455/455 [==============================] - 1s 1ms/step - loss: 0.0713 - accuracy: 0.9918\n",
            "Epoch 31/100\n",
            "455/455 [==============================] - 1s 1ms/step - loss: 0.0388 - accuracy: 0.9960\n",
            "Epoch 32/100\n",
            "455/455 [==============================] - 1s 1ms/step - loss: 0.0652 - accuracy: 0.9933\n",
            "Epoch 33/100\n",
            "455/455 [==============================] - 1s 1ms/step - loss: 0.0754 - accuracy: 0.9918\n",
            "Epoch 34/100\n",
            "455/455 [==============================] - 1s 1ms/step - loss: 0.0669 - accuracy: 0.9921\n",
            "Epoch 35/100\n",
            "455/455 [==============================] - 1s 1ms/step - loss: 0.0436 - accuracy: 0.9951\n",
            "Epoch 36/100\n",
            "455/455 [==============================] - 1s 1ms/step - loss: 0.0756 - accuracy: 0.9909\n",
            "Epoch 37/100\n",
            "455/455 [==============================] - 1s 1ms/step - loss: 0.0560 - accuracy: 0.9928\n",
            "Epoch 38/100\n",
            "455/455 [==============================] - 1s 1ms/step - loss: 0.1725 - accuracy: 0.9753\n",
            "Epoch 39/100\n",
            "455/455 [==============================] - 1s 1ms/step - loss: 0.0546 - accuracy: 0.9938\n",
            "Epoch 40/100\n",
            "455/455 [==============================] - 1s 1ms/step - loss: 0.0365 - accuracy: 0.9955\n",
            "Epoch 41/100\n",
            "455/455 [==============================] - 1s 1ms/step - loss: 0.0292 - accuracy: 0.9961\n",
            "Epoch 42/100\n",
            "455/455 [==============================] - 1s 1ms/step - loss: 0.1298 - accuracy: 0.9815\n",
            "Epoch 43/100\n",
            "455/455 [==============================] - 1s 1ms/step - loss: 0.0586 - accuracy: 0.9920\n",
            "Epoch 44/100\n",
            "455/455 [==============================] - 1s 1ms/step - loss: 0.0301 - accuracy: 0.9968\n",
            "Epoch 45/100\n",
            "455/455 [==============================] - 1s 1ms/step - loss: 0.0746 - accuracy: 0.9917\n",
            "Epoch 46/100\n",
            "455/455 [==============================] - 1s 1ms/step - loss: 0.0524 - accuracy: 0.9936\n",
            "Epoch 47/100\n",
            "455/455 [==============================] - 1s 1ms/step - loss: 0.0722 - accuracy: 0.9899\n",
            "Epoch 48/100\n",
            "455/455 [==============================] - 1s 1ms/step - loss: 0.0766 - accuracy: 0.9884\n",
            "Epoch 49/100\n",
            "455/455 [==============================] - 1s 1ms/step - loss: 0.0397 - accuracy: 0.9932\n",
            "Epoch 50/100\n",
            "455/455 [==============================] - 1s 1ms/step - loss: 0.0535 - accuracy: 0.9925\n",
            "Epoch 51/100\n",
            "455/455 [==============================] - 1s 1ms/step - loss: 0.0379 - accuracy: 0.9944\n",
            "Epoch 52/100\n",
            "455/455 [==============================] - 1s 1ms/step - loss: 0.0525 - accuracy: 0.9921\n",
            "Epoch 53/100\n",
            "455/455 [==============================] - 1s 1ms/step - loss: 0.0410 - accuracy: 0.9933\n",
            "Epoch 54/100\n",
            "455/455 [==============================] - 1s 1ms/step - loss: 0.0469 - accuracy: 0.9931\n",
            "Epoch 55/100\n",
            "455/455 [==============================] - 1s 1ms/step - loss: 0.0701 - accuracy: 0.9887\n",
            "Epoch 56/100\n",
            "455/455 [==============================] - 1s 1ms/step - loss: 0.0254 - accuracy: 0.9962\n",
            "Epoch 57/100\n",
            "455/455 [==============================] - 1s 1ms/step - loss: 0.0289 - accuracy: 0.9951\n",
            "Epoch 58/100\n",
            "455/455 [==============================] - 1s 1ms/step - loss: 0.0552 - accuracy: 0.9914\n",
            "Epoch 59/100\n",
            "455/455 [==============================] - 1s 1ms/step - loss: 0.0424 - accuracy: 0.9934\n",
            "Epoch 60/100\n",
            "455/455 [==============================] - 1s 1ms/step - loss: 0.0513 - accuracy: 0.9925\n",
            "Epoch 61/100\n",
            "455/455 [==============================] - 1s 1ms/step - loss: 0.0691 - accuracy: 0.9903\n",
            "Epoch 62/100\n",
            "455/455 [==============================] - 1s 1ms/step - loss: 0.0604 - accuracy: 0.9909\n",
            "Epoch 63/100\n",
            "455/455 [==============================] - 1s 1ms/step - loss: 0.0416 - accuracy: 0.9924\n",
            "Epoch 64/100\n",
            "455/455 [==============================] - 1s 1ms/step - loss: 0.0506 - accuracy: 0.9891\n",
            "Epoch 65/100\n",
            "455/455 [==============================] - 1s 1ms/step - loss: 0.0365 - accuracy: 0.9945\n",
            "Epoch 66/100\n",
            "455/455 [==============================] - 1s 1ms/step - loss: 0.0393 - accuracy: 0.9938\n",
            "Epoch 67/100\n",
            "455/455 [==============================] - 1s 1ms/step - loss: 0.0421 - accuracy: 0.9905\n",
            "Epoch 68/100\n",
            "455/455 [==============================] - 1s 1ms/step - loss: 0.0336 - accuracy: 0.9958\n",
            "Epoch 69/100\n",
            "455/455 [==============================] - 1s 1ms/step - loss: 0.0323 - accuracy: 0.9956\n",
            "Epoch 70/100\n",
            "455/455 [==============================] - 1s 1ms/step - loss: 0.0578 - accuracy: 0.9842\n",
            "Epoch 71/100\n",
            "455/455 [==============================] - 1s 1ms/step - loss: 0.0655 - accuracy: 0.9891\n",
            "Epoch 72/100\n",
            "455/455 [==============================] - 1s 1ms/step - loss: 0.0279 - accuracy: 0.9954\n",
            "Epoch 73/100\n",
            "455/455 [==============================] - 1s 1ms/step - loss: 0.0258 - accuracy: 0.9964\n",
            "Epoch 74/100\n",
            "455/455 [==============================] - 1s 1ms/step - loss: 0.0886 - accuracy: 0.9841\n",
            "Epoch 75/100\n",
            "455/455 [==============================] - 1s 1ms/step - loss: 0.0439 - accuracy: 0.9924\n",
            "Epoch 76/100\n",
            "455/455 [==============================] - 1s 1ms/step - loss: 0.1014 - accuracy: 0.9839\n",
            "Epoch 77/100\n",
            "455/455 [==============================] - 1s 1ms/step - loss: 0.0558 - accuracy: 0.9868\n",
            "Epoch 78/100\n",
            "455/455 [==============================] - 1s 1ms/step - loss: 0.0839 - accuracy: 0.9872\n",
            "Epoch 79/100\n",
            "455/455 [==============================] - 1s 1ms/step - loss: 0.0424 - accuracy: 0.9921\n",
            "Epoch 80/100\n",
            "455/455 [==============================] - 1s 1ms/step - loss: 0.0194 - accuracy: 0.9968\n",
            "Epoch 81/100\n",
            "455/455 [==============================] - 1s 1ms/step - loss: 0.0349 - accuracy: 0.9924\n",
            "Epoch 82/100\n",
            "455/455 [==============================] - 1s 1ms/step - loss: 0.0972 - accuracy: 0.9831\n",
            "Epoch 83/100\n",
            "455/455 [==============================] - 1s 1ms/step - loss: 0.0293 - accuracy: 0.9951\n",
            "Epoch 84/100\n",
            "455/455 [==============================] - 1s 1ms/step - loss: 0.0522 - accuracy: 0.9893\n",
            "Epoch 85/100\n",
            "455/455 [==============================] - 1s 1ms/step - loss: 0.0447 - accuracy: 0.9922\n",
            "Epoch 86/100\n",
            "455/455 [==============================] - 1s 1ms/step - loss: 0.0329 - accuracy: 0.9928\n",
            "Epoch 87/100\n",
            "455/455 [==============================] - 1s 1ms/step - loss: 0.0588 - accuracy: 0.9879\n",
            "Epoch 88/100\n",
            "455/455 [==============================] - 1s 1ms/step - loss: 0.0250 - accuracy: 0.9958\n",
            "Epoch 89/100\n",
            "455/455 [==============================] - 1s 1ms/step - loss: 0.0550 - accuracy: 0.9844\n",
            "Epoch 90/100\n",
            "455/455 [==============================] - 1s 1ms/step - loss: 0.0202 - accuracy: 0.9979\n",
            "Epoch 91/100\n",
            "455/455 [==============================] - 1s 1ms/step - loss: 0.0456 - accuracy: 0.9938\n",
            "Epoch 92/100\n",
            "455/455 [==============================] - 1s 1ms/step - loss: 0.0485 - accuracy: 0.9926\n",
            "Epoch 93/100\n",
            "455/455 [==============================] - 1s 1ms/step - loss: 0.0736 - accuracy: 0.9814\n",
            "Epoch 94/100\n",
            "455/455 [==============================] - 1s 1ms/step - loss: 0.0654 - accuracy: 0.9909\n",
            "Epoch 95/100\n",
            "455/455 [==============================] - 1s 1ms/step - loss: 0.0792 - accuracy: 0.9855\n",
            "Epoch 96/100\n",
            "455/455 [==============================] - 1s 1ms/step - loss: 0.0865 - accuracy: 0.9869\n",
            "Epoch 97/100\n",
            "455/455 [==============================] - 1s 1ms/step - loss: 0.0675 - accuracy: 0.9920\n",
            "Epoch 98/100\n",
            "455/455 [==============================] - 1s 1ms/step - loss: 0.0670 - accuracy: 0.9894\n",
            "Epoch 99/100\n",
            "455/455 [==============================] - 1s 1ms/step - loss: 0.0486 - accuracy: 0.9928\n",
            "Epoch 100/100\n",
            "455/455 [==============================] - 1s 1ms/step - loss: 0.0683 - accuracy: 0.9873\n"
          ],
          "name": "stdout"
        },
        {
          "output_type": "execute_result",
          "data": {
            "text/plain": [
              "<keras.callbacks.History at 0x7f629fd02d50>"
            ]
          },
          "metadata": {
            "tags": []
          },
          "execution_count": 9
        }
      ]
    },
    {
      "cell_type": "code",
      "metadata": {
        "id": "r8UyvWX6AHmG"
      },
      "source": [
        "from keras.models import load_model\n",
        "\n",
        "classifier.save('breast_cancer_model.h5') #Save trained ANN\n",
        "#classifier = load_model('breast_cancer_model.h5')  #Load trained ANN"
      ],
      "execution_count": 10,
      "outputs": []
    },
    {
      "cell_type": "code",
      "metadata": {
        "id": "OjrMvxLiARIx"
      },
      "source": [
        "y_pred = classifier.predict(X_test)\n",
        "y_pred = [ 1 if y>=0.5 else 0 for y in y_pred ]"
      ],
      "execution_count": 11,
      "outputs": []
    },
    {
      "cell_type": "code",
      "metadata": {
        "colab": {
          "base_uri": "https://localhost:8080/"
        },
        "id": "7JsVV3d5AYE5",
        "outputId": "9c60f9bd-c3ce-4fd8-85c1-0137d95cf089"
      },
      "source": [
        "from sklearn.metrics import confusion_matrix\n",
        "cm = confusion_matrix(y_test, y_pred)\n",
        "print(cm)\n",
        "\n",
        "accuracy = (cm[0][0]+cm[1][1])/(cm[0][0]+cm[0][1]+cm[1][0]+cm[1][1])\n",
        "print(\"Accuracy: \"+ str(accuracy*100)+\"%\")\n"
      ],
      "execution_count": 12,
      "outputs": [
        {
          "output_type": "stream",
          "text": [
            "[[66  1]\n",
            " [ 3 44]]\n",
            "Accuracy: 96.49122807017544%\n"
          ],
          "name": "stdout"
        }
      ]
    },
    {
      "cell_type": "code",
      "metadata": {
        "id": "gKmCuLchAjuB"
      },
      "source": [
        ""
      ],
      "execution_count": null,
      "outputs": []
    }
  ]
}